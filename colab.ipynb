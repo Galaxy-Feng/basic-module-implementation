{
  "nbformat": 4,
  "nbformat_minor": 0,
  "metadata": {
    "colab": {
      "provenance": [],
      "gpuType": "T4",
      "authorship_tag": "ABX9TyP/BbvqA632+a3BQCDA6QNW",
      "include_colab_link": true
    },
    "kernelspec": {
      "name": "python3",
      "display_name": "Python 3"
    },
    "language_info": {
      "name": "python"
    },
    "accelerator": "GPU"
  },
  "cells": [
    {
      "cell_type": "markdown",
      "metadata": {
        "id": "view-in-github",
        "colab_type": "text"
      },
      "source": [
        "<a href=\"https://colab.research.google.com/github/Galaxy-Feng/basic-module-implementation/blob/main/colab.ipynb\" target=\"_parent\"><img src=\"https://colab.research.google.com/assets/colab-badge.svg\" alt=\"Open In Colab\"/></a>"
      ]
    },
    {
      "cell_type": "markdown",
      "source": [
        "# 新段落"
      ],
      "metadata": {
        "id": "lQaU2K6wXkoq"
      }
    },
    {
      "cell_type": "code",
      "source": [
        "import torch\n",
        "import torch.nn as nn\n",
        "import torch.optim as optim\n",
        "\n",
        "true_matrix = [[10.0, 20.0], [30.0, 40.0]]\n",
        "x_vector = [1.0, -1.0]\n",
        "\n",
        "train_data = []\n",
        "for i in range(len(true_matrix)):\n",
        "    for j in range(len(true_matrix[0])):\n",
        "        train_data.append(([i / len(true_matrix), j / len(true_matrix)], true_matrix[i][j]))\n",
        "\n",
        "train_inputs = torch.tensor([item[0] for item in train_data], dtype=torch.float32)\n",
        "train_targets = torch.tensor([item[1] for item in train_data], dtype=torch.float32).unsqueeze(1)\n",
        "\n",
        "class MLP(nn.Module):\n",
        "    def __init__(self, input_dim=2, hidden_dim=128, output_dim=1):\n",
        "        super(MLP, self).__init__()\n",
        "        self.model = nn.Sequential(\n",
        "            nn.Linear(input_dim, hidden_dim),\n",
        "            nn.ReLU(),\n",
        "            nn.Linear(hidden_dim, hidden_dim),\n",
        "            nn.ReLU(),\n",
        "            nn.Linear(hidden_dim, output_dim)\n",
        "        )\n",
        "\n",
        "    def forward(self, x):\n",
        "        return self.model(x)\n",
        "\n",
        "def predict_Aij(i, j, mlp_model):\n",
        "    input_tensor = torch.tensor([i, j], dtype=torch.float32).unsqueeze(0)\n",
        "    A_ij = mlp_model(input_tensor)\n",
        "    return A_ij.item()\n",
        "\n",
        "def compute_y(x, mlp_model):\n",
        "    n = len(x)\n",
        "    y = [0] * n\n",
        "    for i in range(n):\n",
        "        yi = 0\n",
        "        for j in range(n):\n",
        "            A_ij = predict_Aij(i / n, j / n, mlp_model)\n",
        "            yi += A_ij * x[j]\n",
        "        y[i] = yi\n",
        "    return y\n",
        "\n",
        "mlp_model = MLP()\n",
        "\n",
        "loss_f = nn.MSELoss()\n",
        "optimizer = optim.Adam(mlp_model.parameters(), lr=0.01)\n",
        "\n",
        "epochs = 500\n",
        "for epoch in range(epochs):\n",
        "    optimizer.zero_grad()\n",
        "    predictions = mlp_model(train_inputs)\n",
        "    loss = loss_f(predictions, train_targets)\n",
        "    loss.backward()\n",
        "    optimizer.step()\n",
        "    if (epoch + 1) % 100 == 0:\n",
        "        print(f'Epoch [{epoch + 1}/{epochs}], Loss: {loss.item()}')\n",
        "\n",
        "y_result = compute_y(x_vector, mlp_model)\n",
        "print(\"Resulting vector y:\", y_result)"
      ],
      "metadata": {
        "colab": {
          "base_uri": "https://localhost:8080/",
          "height": 0
        },
        "id": "RtR3L3WEviuI",
        "outputId": "acd789b9-f3d6-4064-a345-c3607197bfad"
      },
      "execution_count": 7,
      "outputs": [
        {
          "output_type": "stream",
          "name": "stdout",
          "text": [
            "Epoch [100/500], Loss: 0.03155103325843811\n",
            "Epoch [200/500], Loss: 2.9389093469944783e-06\n",
            "Epoch [300/500], Loss: 5.5706550483591855e-11\n",
            "Epoch [400/500], Loss: 2.2737367544323206e-13\n",
            "Epoch [500/500], Loss: 0.0\n",
            "Resulting vector y: [-10.000000953674316, -9.999998092651367]\n"
          ]
        }
      ]
    }
  ]
}